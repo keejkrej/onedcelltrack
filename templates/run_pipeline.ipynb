{
 "cells": [
  {
   "cell_type": "markdown",
   "metadata": {},
   "source": [
    "# Template to extract trajectories from raw data"
   ]
  },
  {
   "cell_type": "markdown",
   "metadata": {},
   "source": [
    "This Notebook is a template to extract one-dimensional cell migration data from a full experiment.\n",
    "\n",
    "The raw data has to be in Nikon's nd2-format. The data consits of a pattern file that contains one image of the fluorescently labelled patterned lanes per field of view, and of a time-lapse file. The field of views as well as the order has to be the same for the file containing the pattern and the file containing the time-lapse acqusition. The path to these two files has to be specified by the user.\n",
    "\n",
    "The default values for running the pipeline are stored as onedcelltrack/onedcelltrack/default_pipeline_arguments.json\n",
    "The arguments used for the running of this pipeline are saved in extraction/pipeline_arguments.json"
   ]
  },
  {
   "cell_type": "code",
   "execution_count": null,
   "metadata": {},
   "outputs": [],
   "source": [
    "import sys\n",
    "import os\n",
    "import errno\n",
    "import time\n",
    "from onedcelltrack.main_pipeline import Pipeline\n",
    "from nd2reader import ND2Reader\n",
    "from datetime import datetime\n",
    "import numpy as np\n",
    "import matplotlib.pyplot as plt\n",
    "import pandas as pd\n",
    "%matplotlib ipympl\n",
    "%load_ext autoreload"
   ]
  },
  {
   "cell_type": "code",
   "execution_count": null,
   "metadata": {},
   "outputs": [],
   "source": [
    "%autoreload\n",
    "pipe = Pipeline(pipeline_arguments='extraction/pipeline_arguments.json')\n",
    "#pipe=Pipeline(pipeline_arguments=None)"
   ]
  },
  {
   "cell_type": "markdown",
   "metadata": {},
   "source": [
    "## Path to files - input paths"
   ]
  },
  {
   "cell_type": "code",
   "execution_count": null,
   "metadata": {},
   "outputs": [],
   "source": [
    "#Path to folder in which the experiment is contained\n",
    "data_path = ''\n",
    "\n",
    "#Name of main time-lapse experiment file \n",
    "nd2_file = ''\n",
    "\n",
    "#Name of file containing patterns\n",
    "lanes_file = '' \n",
    "    \n",
    "#Path to folder where results should be output\n",
    "path_out = './extraction/' # in Auswertungsordner\n",
    "\n",
    "#update the pipeline with files and check everything is fine\n",
    "pipe.update_file_names(data_path, lanes_file=lanes_file, path_out=path_out, image_file=nd2_file);"
   ]
  },
  {
   "cell_type": "markdown",
   "metadata": {},
   "source": [
    "## First set up the general pipeline arguments\n",
    "* Chose the right brightfield and nucleus channels.\n",
    "* Set the initial and last frame to evaluate.\n",
    "* Delete any bad fields of view.\n",
    "* Set the time resolution.\n",
    "* Don't forget to save the changes, if all goes well, the \"Save\" button should turn green.\n",
    "\n",
    "If the next cell doesn't show an image, please run it again: you should then see an image of your experiment"
   ]
  },
  {
   "cell_type": "code",
   "execution_count": null,
   "metadata": {},
   "outputs": [],
   "source": [
    "pipe.Viewer()"
   ]
  },
  {
   "cell_type": "markdown",
   "metadata": {},
   "source": [
    "## Lane detection - check and optimise\n",
    "\n",
    "- v=0.3 sweet spot\n",
    "- clip usually between 0-1800\n",
    "\n",
    "Note that you must run recompute before the values are updated and can be saved"
   ]
  },
  {
   "cell_type": "code",
   "execution_count": null,
   "metadata": {},
   "outputs": [],
   "source": [
    "pipe.LaneViewer()"
   ]
  },
  {
   "cell_type": "markdown",
   "metadata": {},
   "source": [
    "## Trackpy - check and optimise\n",
    "Make Sure that you have chosen the right nucleus channel in advance, or else you might run into problems! "
   ]
  },
  {
   "cell_type": "code",
   "execution_count": null,
   "metadata": {},
   "outputs": [],
   "source": [
    "pipe.TrackingViewer()"
   ]
  },
  {
   "cell_type": "markdown",
   "metadata": {},
   "source": [
    "## Cellpose - check and optimise\n",
    "You can use a self trained model if you like. Otherwise the default is phcmarch23\n",
    "Optimise the following 3 parameters:\n",
    "- diameter; between 29-45\n",
    "- flow_threshold; 1.25 is good starting point. Not really necessary to change\n",
    "- cellprob_threshold: standard = 0. Not really necessary to change\n",
    "\n",
    "Remember to save the settings!"
   ]
  },
  {
   "cell_type": "code",
   "execution_count": null,
   "metadata": {},
   "outputs": [],
   "source": [
    "pipe.CellposeViewer(pretrained_model=None)"
   ]
  },
  {
   "cell_type": "markdown",
   "metadata": {},
   "source": [
    "## Fill up the metadata in an extra csv file (optional)"
   ]
  },
  {
   "cell_type": "code",
   "execution_count": null,
   "metadata": {},
   "outputs": [],
   "source": [
    "#Access metadata from nd2 file\n",
    "f = ND2Reader(os.path.join(data_path, nd2_file))\n",
    "metadata = f.metadata"
   ]
  },
  {
   "cell_type": "code",
   "execution_count": null,
   "metadata": {},
   "outputs": [],
   "source": [
    "#Fill in data about experiment\n",
    "if metadata['date'] is None:\n",
    "    date = 'None'\n",
    "else:\n",
    "    date = metadata['date'].strftime('%d-%m-%Y %H:%m')\n",
    "    \n",
    "Experiment_data = {\n",
    "    #'Experiment_id':,\n",
    "    'Path':data_path,\n",
    "    'Date': date,\n",
    "    'celltype': 'MDA-MB-231',\n",
    "    'microscope': 'TIRF',\n",
    "    'nframes': f.sizes['t'],\n",
    "    'nfov': f.sizes['v'],\n",
    "    'channels': str(metadata['channels']),\n",
    "    'fpm': 0.5,\n",
    "    'pixels/um': f.metadata['pixel_microns'],\n",
    "    'bitsperpixel': 16,\n",
    "    'Author': 'Johannes Heyn'}"
   ]
  },
  {
   "cell_type": "code",
   "execution_count": null,
   "metadata": {},
   "outputs": [],
   "source": [
    "Experiment_data = pd.DataFrame(Experiment_data, index =[0])\n",
    "Experiment_data.to_csv(f'Experiment_data.csv')"
   ]
  },
  {
   "cell_type": "markdown",
   "metadata": {},
   "source": [
    "## Run the pipeline\n",
    "All the arguments should be set and optimised by now. In the next step you can run the pipeline which will extract the position of the front, nucleus and back of the cell and save it in a csv file in a folder named after the field of view from where the data originates. More specific progress is logged to the output directory."
   ]
  },
  {
   "cell_type": "code",
   "execution_count": null,
   "metadata": {},
   "outputs": [],
   "source": [
    "pipe.run_pipeline(run_lane_detection=True, run_segmentation=True, run_tracking=True, convert_to_um=True, classify_trajectories=True, merge_trajectories=True, verbose=True)"
   ]
  }
 ],
 "metadata": {
  "kernelspec": {
   "display_name": "onedcelltrack",
   "language": "python",
   "name": "onedcelltrack"
  },
  "language_info": {
   "codemirror_mode": {
    "name": "ipython",
    "version": 3
   },
   "file_extension": ".py",
   "mimetype": "text/x-python",
   "name": "python",
   "nbconvert_exporter": "python",
   "pygments_lexer": "ipython3",
   "version": "3.8.15"
  }
 },
 "nbformat": 4,
 "nbformat_minor": 4
}
