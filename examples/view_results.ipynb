{
 "cells": [
  {
   "cell_type": "code",
   "execution_count": 1,
   "id": "33be438c-4a23-4ae9-94e5-770e29138376",
   "metadata": {},
   "outputs": [],
   "source": [
    "from onedcelltrack.viewer import notebook_viewer as nbv\n",
    "%matplotlib ipympl"
   ]
  },
  {
   "cell_type": "code",
   "execution_count": 2,
   "id": "ee1308d5-3a41-4724-a6dd-3efe45aa7efe",
   "metadata": {},
   "outputs": [],
   "source": [
    "#Path to folder in which the experiment is contained\n",
    "data_path = '/project/ag-moonraedler/projects/Testdaten/Migration/20250210/'\n",
    "\n",
    "#Name of main time-lapse experiment file \n",
    "nd2_file = '20250210_Ti2_MDA231_BF_Dapi.nd2'\n",
    "\n",
    "#Name of file containing patterns\n",
    "lanes_file = '20250210_Ti2_MDA231_Cy5001.nd2'\n",
    "    \n",
    "#Path to folder where results should be output\n",
    "path_out = './extraction' # in Auswertungsordner"
   ]
  },
  {
   "cell_type": "code",
   "execution_count": 3,
   "id": "e3699570-b8be-40d5-b044-66d0b0b84a3d",
   "metadata": {},
   "outputs": [
    {
     "data": {
      "application/vnd.jupyter.widget-view+json": {
       "model_id": "fea81929636e43faadbcdbd60d72f751",
       "version_major": 2,
       "version_minor": 0
      },
      "text/plain": [
       "HBox(children=(VBox(children=(VBox(children=(IntSlider(value=0, description='t', max=480), IntSlider(value=1, …"
      ]
     },
     "metadata": {},
     "output_type": "display_data"
    }
   ],
   "source": [
    "viewer = nbv.ResultsViewer(data_path+nd2_file, path_out)"
   ]
  },
  {
   "cell_type": "code",
   "execution_count": null,
   "id": "3f08066b-3b04-4c6e-ba3f-6fe085fa8330",
   "metadata": {},
   "outputs": [],
   "source": []
  }
 ],
 "metadata": {
  "kernelspec": {
   "display_name": "onedcelltrack",
   "language": "python",
   "name": "onedcelltrack"
  },
  "language_info": {
   "codemirror_mode": {
    "name": "ipython",
    "version": 3
   },
   "file_extension": ".py",
   "mimetype": "text/x-python",
   "name": "python",
   "nbconvert_exporter": "python",
   "pygments_lexer": "ipython3",
   "version": "3.12.9"
  }
 },
 "nbformat": 4,
 "nbformat_minor": 5
}
