{
 "cells": [
  {
   "cell_type": "markdown",
   "metadata": {},
   "source": [
    "# Template to extract trajectories from raw data"
   ]
  },
  {
   "cell_type": "markdown",
   "metadata": {},
   "source": [
    "This Notebook is a template to extract one-dimensional cell migration data from a full experiment.\n",
    "\n",
    "The raw data has to be in Nikon's nd2-format. The data consits of a pattern file that contains one image of the fluorescently labelled patterned lanes per field of view, and of a time-lapse file. The field of views as well as the order has to be the same for the file containing the pattern and the file containing the time-lapse acqusition. The path to these two files has to be specified by the user.\n",
    "\n",
    "The default values for running the pipeline are stored as onedcelltrack/onedcelltrack/default_pipeline_arguments.json\n",
    "\n",
    "The arguments used for the running of this pipeline are saved in extraction/pipeline_arguments.json"
   ]
  },
  {
   "cell_type": "code",
   "execution_count": 1,
   "metadata": {},
   "outputs": [],
   "source": [
    "import sys\n",
    "import os\n",
    "import errno\n",
    "import time\n",
    "from onedcelltrack.main_pipeline import Pipeline\n",
    "from nd2reader import ND2Reader\n",
    "from datetime import datetime\n",
    "import numpy as np\n",
    "import matplotlib.pyplot as plt\n",
    "import pandas as pd\n",
    "%matplotlib ipympl\n",
    "%load_ext autoreload"
   ]
  },
  {
   "cell_type": "code",
   "execution_count": 2,
   "metadata": {},
   "outputs": [],
   "source": [
    "%autoreload\n",
    "# pipe = Pipeline(pipeline_arguments='extraction/pipeline_arguments.json')\n",
    "pipe=Pipeline(pipeline_arguments=None)"
   ]
  },
  {
   "cell_type": "markdown",
   "metadata": {},
   "source": [
    "## Path to files - input paths"
   ]
  },
  {
   "cell_type": "code",
   "execution_count": 3,
   "metadata": {
    "metadata": {}
   },
   "outputs": [
    {
     "name": "stdout",
     "output_type": "stream",
     "text": [
      "All files are present and of the right type\n"
     ]
    }
   ],
   "source": [
    "#Path to folder in which the experiment is contained\n",
    "data_path = '/project/ag-moonraedler/projects/Testdaten/Migration/20250210/'\n",
    "\n",
    "#Name of main time-lapse experiment file \n",
    "nd2_file = '20250210_Ti2_MDA231_BF_Dapi.nd2'\n",
    "\n",
    "#Name of file containing patterns\n",
    "lanes_file = '20250210_Ti2_MDA231_Cy5001.nd2'\n",
    "    \n",
    "#Path to folder where results should be output\n",
    "path_out = './extraction/' # in Auswertungsordner\n",
    "\n",
    "#update the pipeline with files and check everything is fine\n",
    "pipe.update_file_names(data_path, lanes_file=lanes_file, path_out=path_out, image_file=nd2_file);"
   ]
  },
  {
   "cell_type": "markdown",
   "metadata": {},
   "source": [
    "## First set up the general pipeline arguments\n",
    "* Chose the right brightfield and nucleus channels.\n",
    "* Set the initial and last frame to evaluate.\n",
    "* Delete any bad fields of view.\n",
    "* Set the time resolution.\n",
    "* Don't forget to save the changes, if all goes well, the \"Save\" button should turn green.\n",
    "\n",
    "If the next cell doesn't show an image, please run it again: you should then see an image of your experiment"
   ]
  },
  {
   "cell_type": "code",
   "execution_count": 6,
   "metadata": {
    "metadata": {}
   },
   "outputs": [
    {
     "data": {
      "application/vnd.jupyter.widget-view+json": {
       "model_id": "7e3b23fb17384c438c4b74a19e1fceb2",
       "version_major": 2,
       "version_minor": 0
      },
      "text/plain": [
       "HBox(children=(VBox(children=(Button(description='Delete fov', style=ButtonStyle(), tooltip='Click me'), Butto…"
      ]
     },
     "metadata": {},
     "output_type": "display_data"
    }
   ],
   "source": [
    "pipe.Viewer()"
   ]
  },
  {
   "cell_type": "markdown",
   "metadata": {},
   "source": [
    "## Lane detection - check and optimise\n",
    "\n",
    "- v=0.3 sweet spot\n",
    "- clip usually between 0-1800\n",
    "\n",
    "Note that you must run recompute before the values are updated and can be saved"
   ]
  },
  {
   "cell_type": "code",
   "execution_count": 8,
   "metadata": {
    "metadata": {}
   },
   "outputs": [
    {
     "name": "stdout",
     "output_type": "stream",
     "text": [
      "recomputing\n",
      "updating\n"
     ]
    },
    {
     "data": {
      "application/vnd.jupyter.widget-view+json": {
       "model_id": "88e0b863e01e4dd49e652351a83af24e",
       "version_major": 2,
       "version_minor": 0
      },
      "text/plain": [
       "HBox(children=(HBox(children=(VBox(children=(IntSlider(value=30, description='lane distance', max=60, min=10),…"
      ]
     },
     "metadata": {},
     "output_type": "display_data"
    }
   ],
   "source": [
    "pipe.LaneViewer()"
   ]
  },
  {
   "cell_type": "markdown",
   "metadata": {},
   "source": [
    "## Trackpy - check and optimise\n",
    "Make Sure that you have chosen the right nucleus channel in advance, or else you might run into problems! "
   ]
  },
  {
   "cell_type": "code",
   "execution_count": 9,
   "metadata": {
    "metadata": {}
   },
   "outputs": [
    {
     "data": {
      "application/vnd.jupyter.widget-view+json": {
       "model_id": "6759a417fc3c4de1aa5b522251a5138f",
       "version_major": 2,
       "version_minor": 0
      },
      "text/plain": [
       "HBox(children=(VBox(children=(FloatSlider(value=10000.0, description='min_mass', max=100000.0, min=1000.0, ste…"
      ]
     },
     "metadata": {},
     "output_type": "display_data"
    }
   ],
   "source": [
    "pipe.TrackingViewer()"
   ]
  },
  {
   "cell_type": "markdown",
   "metadata": {},
   "source": [
    "## Cellpose - check and optimise\n",
    "You can use a self trained model if you like. Otherwise the default is phcmarch23\n",
    "Optimise the following 3 parameters:\n",
    "- diameter; between 29-45\n",
    "- flow_threshold; 1.25 is good starting point. Not really necessary to change\n",
    "- cellprob_threshold: standard = 0. Not really necessary to change\n",
    "\n",
    "Remember to save the settings!"
   ]
  },
  {
   "cell_type": "code",
   "execution_count": 10,
   "metadata": {
    "metadata": {}
   },
   "outputs": [
    {
     "name": "stdout",
     "output_type": "stream",
     "text": [
      "Downloading model from Nextcloud...\n"
     ]
    },
    {
     "data": {
      "application/vnd.jupyter.widget-view+json": {
       "model_id": "ddd116953b144c60b556e1b07736f488",
       "version_major": 2,
       "version_minor": 0
      },
      "text/plain": [
       "HBox(children=(VBox(children=(FloatSlider(value=1.25, continuous_update=False, description='flow_threshold', m…"
      ]
     },
     "metadata": {},
     "output_type": "display_data"
    }
   ],
   "source": [
    "pipe.CellposeViewer(pretrained_model='mdamb231')"
   ]
  },
  {
   "cell_type": "markdown",
   "metadata": {},
   "source": [
    "## Fill up the metadata in an extra csv file (optional)"
   ]
  },
  {
   "cell_type": "code",
   "execution_count": 11,
   "metadata": {},
   "outputs": [],
   "source": [
    "#Access metadata from nd2 file\n",
    "f = ND2Reader(os.path.join(data_path, nd2_file))\n",
    "metadata = f.metadata"
   ]
  },
  {
   "cell_type": "code",
   "execution_count": 12,
   "metadata": {},
   "outputs": [],
   "source": [
    "#Fill in data about experiment\n",
    "if metadata['date'] is None:\n",
    "    date = 'None'\n",
    "else:\n",
    "    date = metadata['date'].strftime('%d-%m-%Y %H:%m')\n",
    "    \n",
    "Experiment_data = {\n",
    "    #'Experiment_id':,\n",
    "    'Path':data_path,\n",
    "    'Date': date,\n",
    "    'celltype': 'MDA-MB-231',\n",
    "    'microscope': 'Ti2',\n",
    "    'nframes': f.sizes['t'],\n",
    "    'nfov': f.sizes['v'],\n",
    "    'channels': str(metadata['channels']),\n",
    "    'fpm': 0.5,\n",
    "    'pixels/um': f.metadata['pixel_microns'],\n",
    "    'bitsperpixel': 16,\n",
    "    'Author': 'Johannes Heyn'}"
   ]
  },
  {
   "cell_type": "code",
   "execution_count": 13,
   "metadata": {},
   "outputs": [],
   "source": [
    "Experiment_data = pd.DataFrame(Experiment_data, index =[0])\n",
    "Experiment_data.to_csv(f'Experiment_data.csv', index=False)"
   ]
  },
  {
   "cell_type": "markdown",
   "metadata": {},
   "source": [
    "## Run the pipeline\n",
    "All the arguments should be set and optimised by now. In the next step you can run the pipeline which will extract the position of the front, nucleus and back of the cell and save it in a csv file in a folder named after the field of view from where the data originates. More specific progress is logged to the output directory."
   ]
  },
  {
   "cell_type": "code",
   "execution_count": 17,
   "metadata": {},
   "outputs": [
    {
     "name": "stdout",
     "output_type": "stream",
     "text": [
      "Started pipeline\n",
      "Logging to ./extraction/pipelinelog_2025-05-21_04-07-03.log\n",
      "All files are present and of the right type\n"
     ]
    },
    {
     "name": "stderr",
     "output_type": "stream",
     "text": [
      "Detecting lanes: 100%|██████████| 54/54 [00:34<00:00,  1.57it/s]\n"
     ]
    },
    {
     "name": "stdout",
     "output_type": "stream",
     "text": [
      "Processing fov 10\n",
      "Segmenting cells...\n"
     ]
    },
    {
     "name": "stderr",
     "output_type": "stream",
     "text": [
      "100%|██████████| 481/481 [03:45<00:00,  2.13it/s]\n"
     ]
    },
    {
     "name": "stdout",
     "output_type": "stream",
     "text": [
      "Tracking cells with trackpy...\n",
      "Tracking nuclei using trackpy...\n",
      "Tracking of nuclei completed.\n",
      "Merging tracking data...\n",
      "Obtaining cell tracks...\n"
     ]
    },
    {
     "name": "stderr",
     "output_type": "stream",
     "text": [
      "100%|██████████| 51/51 [00:40<00:00,  1.25it/s]\n"
     ]
    },
    {
     "name": "stdout",
     "output_type": "stream",
     "text": [
      "Filtering and postprocessing...\n",
      "Classifying tracks...\n",
      "Converting to um...\n",
      "Done with fov 10!\n",
      "Processing fov 11\n",
      "Segmenting cells...\n"
     ]
    },
    {
     "name": "stderr",
     "output_type": "stream",
     "text": [
      " 46%|████▌     | 221/481 [01:40<01:58,  2.20it/s]\n"
     ]
    },
    {
     "ename": "KeyboardInterrupt",
     "evalue": "",
     "output_type": "error",
     "traceback": [
      "\u001b[31m---------------------------------------------------------------------------\u001b[39m",
      "\u001b[31mKeyboardInterrupt\u001b[39m                         Traceback (most recent call last)",
      "\u001b[36mCell\u001b[39m\u001b[36m \u001b[39m\u001b[32mIn[17]\u001b[39m\u001b[32m, line 1\u001b[39m\n\u001b[32m----> \u001b[39m\u001b[32m1\u001b[39m \u001b[43mpipe\u001b[49m\u001b[43m.\u001b[49m\u001b[43mrun_pipeline\u001b[49m\u001b[43m(\u001b[49m\u001b[43mrun_lane_detection\u001b[49m\u001b[43m=\u001b[49m\u001b[38;5;28;43;01mTrue\u001b[39;49;00m\u001b[43m,\u001b[49m\u001b[43m \u001b[49m\u001b[43mrun_segmentation\u001b[49m\u001b[43m=\u001b[49m\u001b[38;5;28;43;01mTrue\u001b[39;49;00m\u001b[43m,\u001b[49m\u001b[43m \u001b[49m\u001b[43mrun_tracking\u001b[49m\u001b[43m=\u001b[49m\u001b[38;5;28;43;01mTrue\u001b[39;49;00m\u001b[43m,\u001b[49m\u001b[43m \u001b[49m\u001b[43mconvert_to_um\u001b[49m\u001b[43m=\u001b[49m\u001b[38;5;28;43;01mTrue\u001b[39;49;00m\u001b[43m,\u001b[49m\u001b[43m \u001b[49m\u001b[43mclassify_trajectories\u001b[49m\u001b[43m=\u001b[49m\u001b[38;5;28;43;01mTrue\u001b[39;49;00m\u001b[43m,\u001b[49m\u001b[43m \u001b[49m\u001b[43mmerge_trajectories\u001b[49m\u001b[43m=\u001b[49m\u001b[38;5;28;43;01mTrue\u001b[39;49;00m\u001b[43m,\u001b[49m\u001b[43m \u001b[49m\u001b[43mverbose\u001b[49m\u001b[43m=\u001b[49m\u001b[38;5;28;43;01mTrue\u001b[39;49;00m\u001b[43m)\u001b[49m\n",
      "\u001b[36mFile \u001b[39m\u001b[32m/project/ag-nickel/user/T.Cao/workspace/onedcelltrack/onedcelltrack/main_pipeline.py:702\u001b[39m, in \u001b[36mPipeline.run_pipeline\u001b[39m\u001b[34m(self, run_segmentation, run_tracking, run_lane_detection, merge_trajectories, classify_trajectories, verbose, convert_to_um)\u001b[39m\n\u001b[32m    700\u001b[39m \u001b[38;5;28;01mif\u001b[39;00m run_segmentation:\n\u001b[32m    701\u001b[39m     \u001b[38;5;28mprint\u001b[39m(\u001b[33m'\u001b[39m\u001b[33mSegmenting cells...\u001b[39m\u001b[33m'\u001b[39m)\n\u001b[32m--> \u001b[39m\u001b[32m702\u001b[39m     \u001b[38;5;28;43mself\u001b[39;49m\u001b[43m.\u001b[49m\u001b[43msegment\u001b[49m\u001b[43m(\u001b[49m\u001b[43mfov\u001b[49m\u001b[43m=\u001b[49m\u001b[43mfov\u001b[49m\u001b[43m)\u001b[49m\n\u001b[32m    703\u001b[39m \u001b[38;5;28;01mif\u001b[39;00m run_tracking:\n\u001b[32m    704\u001b[39m     \u001b[38;5;28mprint\u001b[39m(\u001b[33m'\u001b[39m\u001b[33mTracking cells with trackpy...\u001b[39m\u001b[33m'\u001b[39m)\n",
      "\u001b[36mFile \u001b[39m\u001b[32m/project/ag-nickel/user/T.Cao/workspace/onedcelltrack/onedcelltrack/main_pipeline.py:478\u001b[39m, in \u001b[36mPipeline.segment\u001b[39m\u001b[34m(self, fov)\u001b[39m\n\u001b[32m    476\u001b[39m bf = \u001b[38;5;28mself\u001b[39m.read_bf(frames=\u001b[38;5;28mself\u001b[39m.frame_indices, fov=fov)\n\u001b[32m    477\u001b[39m nuc = \u001b[38;5;28mself\u001b[39m.read_nuc(frames=\u001b[38;5;28mself\u001b[39m.frame_indices, fov=fov)\n\u001b[32m--> \u001b[39m\u001b[32m478\u001b[39m masks = \u001b[38;5;28;43mself\u001b[39;49m\u001b[43m.\u001b[49m\u001b[43msegmentation\u001b[49m\u001b[43m.\u001b[49m\u001b[43msegment\u001b[49m\u001b[43m(\u001b[49m\u001b[43mbrightfield\u001b[49m\u001b[43m=\u001b[49m\u001b[43mbf\u001b[49m\u001b[43m,\u001b[49m\u001b[43m \u001b[49m\u001b[43mnucleus\u001b[49m\u001b[43m=\u001b[49m\u001b[43mnuc\u001b[49m\u001b[43m,\u001b[49m\u001b[43m \u001b[49m\u001b[43mdiameter\u001b[49m\u001b[43m=\u001b[49m\u001b[38;5;28;43mself\u001b[39;49m\u001b[43m.\u001b[49m\u001b[43mcyto_diameter\u001b[49m\u001b[43m,\u001b[49m\u001b[43m \u001b[49m\u001b[43mflow_threshold\u001b[49m\u001b[43m=\u001b[49m\u001b[38;5;28;43mself\u001b[39;49m\u001b[43m.\u001b[49m\u001b[43mflow_threshold\u001b[49m\u001b[43m,\u001b[49m\u001b[43m \u001b[49m\u001b[43mcellprob_threshold\u001b[49m\u001b[43m=\u001b[49m\u001b[38;5;28;43mself\u001b[39;49m\u001b[43m.\u001b[49m\u001b[43mcellprob_threshold\u001b[49m\u001b[43m,\u001b[49m\u001b[43m \u001b[49m\u001b[43mverbose\u001b[49m\u001b[43m=\u001b[49m\u001b[38;5;28;43mself\u001b[39;49m\u001b[43m.\u001b[49m\u001b[43mverbose\u001b[49m\u001b[43m)\u001b[49m\n\u001b[32m    480\u001b[39m \u001b[38;5;66;03m## Now save the segmentation results\u001b[39;00m\n\u001b[32m    481\u001b[39m \u001b[38;5;28mself\u001b[39m.save_segmentation_results(masks, fov=fov)\n",
      "\u001b[36mFile \u001b[39m\u001b[32m/project/ag-nickel/user/T.Cao/workspace/onedcelltrack/onedcelltrack/segmentation.py:122\u001b[39m, in \u001b[36mSegmentation.segment\u001b[39m\u001b[34m(self, brightfield, nucleus, channels, diameter, flow_threshold, cellprob_threshold, verbose)\u001b[39m\n\u001b[32m    120\u001b[39m     \u001b[38;5;28;01mfor\u001b[39;00m frame \u001b[38;5;129;01min\u001b[39;00m tqdm(\u001b[38;5;28mrange\u001b[39m(time_frames), disable=(\u001b[38;5;129;01mnot\u001b[39;00m verbose)):\n\u001b[32m    121\u001b[39m         images = np.stack((brightfield[frame], nucleus[frame]), axis=-\u001b[32m1\u001b[39m)\n\u001b[32m--> \u001b[39m\u001b[32m122\u001b[39m         mask = \u001b[38;5;28;43mself\u001b[39;49m\u001b[43m.\u001b[49m\u001b[43mmodel\u001b[49m\u001b[43m.\u001b[49m\u001b[43meval\u001b[49m\u001b[43m(\u001b[49m\u001b[43mimages\u001b[49m\u001b[43m,\u001b[49m\u001b[43m \u001b[49m\u001b[43mdiameter\u001b[49m\u001b[43m=\u001b[49m\u001b[43mdiameter\u001b[49m\u001b[43m,\u001b[49m\u001b[43m \u001b[49m\u001b[43mchannels\u001b[49m\u001b[43m=\u001b[49m\u001b[43mchannels\u001b[49m\u001b[43m,\u001b[49m\u001b[43m \u001b[49m\u001b[43mflow_threshold\u001b[49m\u001b[43m=\u001b[49m\u001b[43mflow_threshold\u001b[49m\u001b[43m,\u001b[49m\u001b[43m \u001b[49m\u001b[43mnormalize\u001b[49m\u001b[43m=\u001b[49m\u001b[38;5;28;43;01mTrue\u001b[39;49;00m\u001b[43m,\u001b[49m\u001b[43m \u001b[49m\u001b[43mcellprob_threshold\u001b[49m\u001b[43m=\u001b[49m\u001b[43mcellprob_threshold\u001b[49m\u001b[43m)\u001b[49m[\u001b[32m0\u001b[39m].astype(\u001b[33m'\u001b[39m\u001b[33muint8\u001b[39m\u001b[33m'\u001b[39m)\n\u001b[32m    123\u001b[39m         masks[frame] =  mask.astype(\u001b[33m'\u001b[39m\u001b[33muint8\u001b[39m\u001b[33m'\u001b[39m)\n\u001b[32m    125\u001b[39m \u001b[38;5;28;01mreturn\u001b[39;00m masks\n",
      "\u001b[36mFile \u001b[39m\u001b[32m~/.local/lib/python3.12/site-packages/cellpose/models.py:533\u001b[39m, in \u001b[36mCellposeModel.eval\u001b[39m\u001b[34m(self, x, batch_size, resample, channels, channel_axis, z_axis, normalize, invert, rescale, diameter, flow_threshold, cellprob_threshold, do_3D, anisotropy, flow3D_smooth, stitch_threshold, min_size, max_size_fraction, niter, augment, tile_overlap, bsize, interp, compute_masks, progress)\u001b[39m\n\u001b[32m    531\u001b[39m     niter0 = \u001b[32m200\u001b[39m \u001b[38;5;28;01mif\u001b[39;00m \u001b[38;5;129;01mnot\u001b[39;00m resample \u001b[38;5;28;01melse\u001b[39;00m (\u001b[32m1\u001b[39m / rescale * \u001b[32m200\u001b[39m)\n\u001b[32m    532\u001b[39m     niter = niter0 \u001b[38;5;28;01mif\u001b[39;00m niter \u001b[38;5;129;01mis\u001b[39;00m \u001b[38;5;28;01mNone\u001b[39;00m \u001b[38;5;129;01mor\u001b[39;00m niter == \u001b[32m0\u001b[39m \u001b[38;5;28;01melse\u001b[39;00m niter\n\u001b[32m--> \u001b[39m\u001b[32m533\u001b[39m     masks = \u001b[38;5;28;43mself\u001b[39;49m\u001b[43m.\u001b[49m\u001b[43m_compute_masks\u001b[49m\u001b[43m(\u001b[49m\u001b[43mx\u001b[49m\u001b[43m.\u001b[49m\u001b[43mshape\u001b[49m\u001b[43m,\u001b[49m\u001b[43m \u001b[49m\u001b[43mdP\u001b[49m\u001b[43m,\u001b[49m\u001b[43m \u001b[49m\u001b[43mcellprob\u001b[49m\u001b[43m,\u001b[49m\u001b[43m \u001b[49m\u001b[43mflow_threshold\u001b[49m\u001b[43m=\u001b[49m\u001b[43mflow_threshold\u001b[49m\u001b[43m,\u001b[49m\n\u001b[32m    534\u001b[39m \u001b[43m                   \u001b[49m\u001b[43mcellprob_threshold\u001b[49m\u001b[43m=\u001b[49m\u001b[43mcellprob_threshold\u001b[49m\u001b[43m,\u001b[49m\u001b[43m \u001b[49m\u001b[43minterp\u001b[49m\u001b[43m=\u001b[49m\u001b[43minterp\u001b[49m\u001b[43m,\u001b[49m\u001b[43m \u001b[49m\u001b[43mmin_size\u001b[49m\u001b[43m=\u001b[49m\u001b[43mmin_size\u001b[49m\u001b[43m,\u001b[49m\n\u001b[32m    535\u001b[39m \u001b[43m                \u001b[49m\u001b[43mmax_size_fraction\u001b[49m\u001b[43m=\u001b[49m\u001b[43mmax_size_fraction\u001b[49m\u001b[43m,\u001b[49m\u001b[43m \u001b[49m\u001b[43mniter\u001b[49m\u001b[43m=\u001b[49m\u001b[43mniter\u001b[49m\u001b[43m,\u001b[49m\n\u001b[32m    536\u001b[39m \u001b[43m                \u001b[49m\u001b[43mstitch_threshold\u001b[49m\u001b[43m=\u001b[49m\u001b[43mstitch_threshold\u001b[49m\u001b[43m,\u001b[49m\u001b[43m \u001b[49m\u001b[43mdo_3D\u001b[49m\u001b[43m=\u001b[49m\u001b[43mdo_3D\u001b[49m\u001b[43m)\u001b[49m\n\u001b[32m    537\u001b[39m \u001b[38;5;28;01melse\u001b[39;00m:\n\u001b[32m    538\u001b[39m     masks = np.zeros(\u001b[32m0\u001b[39m) \u001b[38;5;66;03m#pass back zeros if not compute_masks\u001b[39;00m\n",
      "\u001b[36mFile \u001b[39m\u001b[32m~/.local/lib/python3.12/site-packages/cellpose/models.py:619\u001b[39m, in \u001b[36mCellposeModel._compute_masks\u001b[39m\u001b[34m(self, shape, dP, cellprob, flow_threshold, cellprob_threshold, interp, min_size, max_size_fraction, niter, do_3D, stitch_threshold)\u001b[39m\n\u001b[32m    616\u001b[39m \u001b[38;5;28;01mfor\u001b[39;00m i \u001b[38;5;129;01min\u001b[39;00m iterator:\n\u001b[32m    617\u001b[39m     \u001b[38;5;66;03m# turn off min_size for 3D stitching\u001b[39;00m\n\u001b[32m    618\u001b[39m     min_size0 = min_size \u001b[38;5;28;01mif\u001b[39;00m stitch_threshold == \u001b[32m0\u001b[39m \u001b[38;5;129;01mor\u001b[39;00m nimg == \u001b[32m1\u001b[39m \u001b[38;5;28;01melse\u001b[39;00m -\u001b[32m1\u001b[39m\n\u001b[32m--> \u001b[39m\u001b[32m619\u001b[39m     outputs = \u001b[43mdynamics\u001b[49m\u001b[43m.\u001b[49m\u001b[43mresize_and_compute_masks\u001b[49m\u001b[43m(\u001b[49m\n\u001b[32m    620\u001b[39m \u001b[43m        \u001b[49m\u001b[43mdP\u001b[49m\u001b[43m[\u001b[49m\u001b[43m:\u001b[49m\u001b[43m,\u001b[49m\u001b[43m \u001b[49m\u001b[43mi\u001b[49m\u001b[43m]\u001b[49m\u001b[43m,\u001b[49m\u001b[43m \u001b[49m\u001b[43mcellprob\u001b[49m\u001b[43m[\u001b[49m\u001b[43mi\u001b[49m\u001b[43m]\u001b[49m\u001b[43m,\u001b[49m\n\u001b[32m    621\u001b[39m \u001b[43m        \u001b[49m\u001b[43mniter\u001b[49m\u001b[43m=\u001b[49m\u001b[43mniter\u001b[49m\u001b[43m,\u001b[49m\u001b[43m \u001b[49m\u001b[43mcellprob_threshold\u001b[49m\u001b[43m=\u001b[49m\u001b[43mcellprob_threshold\u001b[49m\u001b[43m,\u001b[49m\n\u001b[32m    622\u001b[39m \u001b[43m        \u001b[49m\u001b[43mflow_threshold\u001b[49m\u001b[43m=\u001b[49m\u001b[43mflow_threshold\u001b[49m\u001b[43m,\u001b[49m\u001b[43m \u001b[49m\u001b[43minterp\u001b[49m\u001b[43m=\u001b[49m\u001b[43minterp\u001b[49m\u001b[43m,\u001b[49m\u001b[43m \u001b[49m\u001b[43mresize\u001b[49m\u001b[43m=\u001b[49m\u001b[43mresize\u001b[49m\u001b[43m,\u001b[49m\n\u001b[32m    623\u001b[39m \u001b[43m        \u001b[49m\u001b[43mmin_size\u001b[49m\u001b[43m=\u001b[49m\u001b[43mmin_size0\u001b[49m\u001b[43m,\u001b[49m\u001b[43m \u001b[49m\u001b[43mmax_size_fraction\u001b[49m\u001b[43m=\u001b[49m\u001b[43mmax_size_fraction\u001b[49m\u001b[43m,\u001b[49m\n\u001b[32m    624\u001b[39m \u001b[43m        \u001b[49m\u001b[43mdevice\u001b[49m\u001b[43m=\u001b[49m\u001b[38;5;28;43mself\u001b[39;49m\u001b[43m.\u001b[49m\u001b[43mdevice\u001b[49m\u001b[43m)\u001b[49m\n\u001b[32m    625\u001b[39m     \u001b[38;5;28;01mif\u001b[39;00m i==\u001b[32m0\u001b[39m \u001b[38;5;129;01mand\u001b[39;00m nimg > \u001b[32m1\u001b[39m:\n\u001b[32m    626\u001b[39m         masks = np.zeros((nimg, shape[\u001b[32m1\u001b[39m], shape[\u001b[32m2\u001b[39m]), outputs.dtype)\n",
      "\u001b[36mFile \u001b[39m\u001b[32m~/.local/lib/python3.12/site-packages/cellpose/dynamics.py:846\u001b[39m, in \u001b[36mresize_and_compute_masks\u001b[39m\u001b[34m(dP, cellprob, niter, cellprob_threshold, flow_threshold, interp, do_3D, min_size, max_size_fraction, resize, device)\u001b[39m\n\u001b[32m    823\u001b[39m \u001b[38;5;28;01mdef\u001b[39;00m\u001b[38;5;250m \u001b[39m\u001b[34mresize_and_compute_masks\u001b[39m(dP, cellprob, niter=\u001b[32m200\u001b[39m, cellprob_threshold=\u001b[32m0.0\u001b[39m,\n\u001b[32m    824\u001b[39m                              flow_threshold=\u001b[32m0.4\u001b[39m, interp=\u001b[38;5;28;01mTrue\u001b[39;00m, do_3D=\u001b[38;5;28;01mFalse\u001b[39;00m, min_size=\u001b[32m15\u001b[39m,\n\u001b[32m    825\u001b[39m                              max_size_fraction=\u001b[32m0.4\u001b[39m, resize=\u001b[38;5;28;01mNone\u001b[39;00m, device=torch.device(\u001b[33m\"\u001b[39m\u001b[33mcpu\u001b[39m\u001b[33m\"\u001b[39m)):\n\u001b[32m    826\u001b[39m \u001b[38;5;250m    \u001b[39m\u001b[33;03m\"\"\"Compute masks using dynamics from dP and cellprob, and resizes masks if resize is not None.\u001b[39;00m\n\u001b[32m    827\u001b[39m \n\u001b[32m    828\u001b[39m \u001b[33;03m    Args:\u001b[39;00m\n\u001b[32m   (...)\u001b[39m\u001b[32m    844\u001b[39m \u001b[33;03m        tuple: A tuple containing the computed masks and the final pixel locations.\u001b[39;00m\n\u001b[32m    845\u001b[39m \u001b[33;03m    \"\"\"\u001b[39;00m\n\u001b[32m--> \u001b[39m\u001b[32m846\u001b[39m     mask = \u001b[43mcompute_masks\u001b[49m\u001b[43m(\u001b[49m\u001b[43mdP\u001b[49m\u001b[43m,\u001b[49m\u001b[43m \u001b[49m\u001b[43mcellprob\u001b[49m\u001b[43m,\u001b[49m\u001b[43m \u001b[49m\u001b[43mniter\u001b[49m\u001b[43m=\u001b[49m\u001b[43mniter\u001b[49m\u001b[43m,\u001b[49m\n\u001b[32m    847\u001b[39m \u001b[43m                            \u001b[49m\u001b[43mcellprob_threshold\u001b[49m\u001b[43m=\u001b[49m\u001b[43mcellprob_threshold\u001b[49m\u001b[43m,\u001b[49m\n\u001b[32m    848\u001b[39m \u001b[43m                            \u001b[49m\u001b[43mflow_threshold\u001b[49m\u001b[43m=\u001b[49m\u001b[43mflow_threshold\u001b[49m\u001b[43m,\u001b[49m\u001b[43m \u001b[49m\u001b[43minterp\u001b[49m\u001b[43m=\u001b[49m\u001b[43minterp\u001b[49m\u001b[43m,\u001b[49m\u001b[43m \u001b[49m\u001b[43mdo_3D\u001b[49m\u001b[43m=\u001b[49m\u001b[43mdo_3D\u001b[49m\u001b[43m,\u001b[49m\n\u001b[32m    849\u001b[39m \u001b[43m                            \u001b[49m\u001b[43mmax_size_fraction\u001b[49m\u001b[43m=\u001b[49m\u001b[43mmax_size_fraction\u001b[49m\u001b[43m,\u001b[49m\u001b[43m \u001b[49m\n\u001b[32m    850\u001b[39m \u001b[43m                            \u001b[49m\u001b[43mdevice\u001b[49m\u001b[43m=\u001b[49m\u001b[43mdevice\u001b[49m\u001b[43m)\u001b[49m\n\u001b[32m    852\u001b[39m     \u001b[38;5;28;01mif\u001b[39;00m resize \u001b[38;5;129;01mis\u001b[39;00m \u001b[38;5;129;01mnot\u001b[39;00m \u001b[38;5;28;01mNone\u001b[39;00m:\n\u001b[32m    853\u001b[39m         \u001b[38;5;28;01mif\u001b[39;00m \u001b[38;5;28mlen\u001b[39m(resize) == \u001b[32m2\u001b[39m:\n",
      "\u001b[36mFile \u001b[39m\u001b[32m~/.local/lib/python3.12/site-packages/cellpose/dynamics.py:897\u001b[39m, in \u001b[36mcompute_masks\u001b[39m\u001b[34m(dP, cellprob, p, niter, cellprob_threshold, flow_threshold, interp, do_3D, min_size, max_size_fraction, device)\u001b[39m\n\u001b[32m    874\u001b[39m \u001b[38;5;28;01mdef\u001b[39;00m\u001b[38;5;250m \u001b[39m\u001b[34mcompute_masks\u001b[39m(dP, cellprob, p=\u001b[38;5;28;01mNone\u001b[39;00m, niter=\u001b[32m200\u001b[39m, cellprob_threshold=\u001b[32m0.0\u001b[39m,\n\u001b[32m    875\u001b[39m                   flow_threshold=\u001b[32m0.4\u001b[39m, interp=\u001b[38;5;28;01mTrue\u001b[39;00m, do_3D=\u001b[38;5;28;01mFalse\u001b[39;00m, min_size=-\u001b[32m1\u001b[39m,\n\u001b[32m    876\u001b[39m                   max_size_fraction=\u001b[32m0.4\u001b[39m, device=torch.device(\u001b[33m\"\u001b[39m\u001b[33mcpu\u001b[39m\u001b[33m\"\u001b[39m)):\n\u001b[32m    877\u001b[39m \u001b[38;5;250m    \u001b[39m\u001b[33;03m\"\"\"Compute masks using dynamics from dP and cellprob.\u001b[39;00m\n\u001b[32m    878\u001b[39m \n\u001b[32m    879\u001b[39m \u001b[33;03m    Args:\u001b[39;00m\n\u001b[32m   (...)\u001b[39m\u001b[32m    894\u001b[39m \u001b[33;03m        tuple: A tuple containing the computed masks and the final pixel locations.\u001b[39;00m\n\u001b[32m    895\u001b[39m \u001b[33;03m    \"\"\"\u001b[39;00m\n\u001b[32m--> \u001b[39m\u001b[32m897\u001b[39m     \u001b[38;5;28;01mif\u001b[39;00m \u001b[43m(\u001b[49m\u001b[43mcellprob\u001b[49m\u001b[43m \u001b[49m\u001b[43m>\u001b[49m\u001b[43m \u001b[49m\u001b[43mcellprob_threshold\u001b[49m\u001b[43m)\u001b[49m\u001b[43m.\u001b[49m\u001b[43msum\u001b[49m\u001b[43m(\u001b[49m\u001b[43m)\u001b[49m:  \u001b[38;5;66;03m#mask at this point is a cell cluster binary map, not labels\u001b[39;00m\n\u001b[32m    898\u001b[39m         inds = np.nonzero(cellprob > cellprob_threshold)\n\u001b[32m    899\u001b[39m         \u001b[38;5;28;01mif\u001b[39;00m \u001b[38;5;28mlen\u001b[39m(inds[\u001b[32m0\u001b[39m]) == \u001b[32m0\u001b[39m:\n",
      "\u001b[36mFile \u001b[39m\u001b[32m/project/ag-nickel/user/T.Cao/software/miniconda3/envs/onedcelltrack/lib/python3.12/site-packages/numpy/core/_methods.py:47\u001b[39m, in \u001b[36m_sum\u001b[39m\u001b[34m(a, axis, dtype, out, keepdims, initial, where)\u001b[39m\n\u001b[32m     43\u001b[39m \u001b[38;5;28;01mdef\u001b[39;00m\u001b[38;5;250m \u001b[39m\u001b[34m_amin\u001b[39m(a, axis=\u001b[38;5;28;01mNone\u001b[39;00m, out=\u001b[38;5;28;01mNone\u001b[39;00m, keepdims=\u001b[38;5;28;01mFalse\u001b[39;00m,\n\u001b[32m     44\u001b[39m           initial=_NoValue, where=\u001b[38;5;28;01mTrue\u001b[39;00m):\n\u001b[32m     45\u001b[39m     \u001b[38;5;28;01mreturn\u001b[39;00m umr_minimum(a, axis, \u001b[38;5;28;01mNone\u001b[39;00m, out, keepdims, initial, where)\n\u001b[32m---> \u001b[39m\u001b[32m47\u001b[39m \u001b[38;5;28;01mdef\u001b[39;00m\u001b[38;5;250m \u001b[39m\u001b[34m_sum\u001b[39m(a, axis=\u001b[38;5;28;01mNone\u001b[39;00m, dtype=\u001b[38;5;28;01mNone\u001b[39;00m, out=\u001b[38;5;28;01mNone\u001b[39;00m, keepdims=\u001b[38;5;28;01mFalse\u001b[39;00m,\n\u001b[32m     48\u001b[39m          initial=_NoValue, where=\u001b[38;5;28;01mTrue\u001b[39;00m):\n\u001b[32m     49\u001b[39m     \u001b[38;5;28;01mreturn\u001b[39;00m umr_sum(a, axis, dtype, out, keepdims, initial, where)\n\u001b[32m     51\u001b[39m \u001b[38;5;28;01mdef\u001b[39;00m\u001b[38;5;250m \u001b[39m\u001b[34m_prod\u001b[39m(a, axis=\u001b[38;5;28;01mNone\u001b[39;00m, dtype=\u001b[38;5;28;01mNone\u001b[39;00m, out=\u001b[38;5;28;01mNone\u001b[39;00m, keepdims=\u001b[38;5;28;01mFalse\u001b[39;00m,\n\u001b[32m     52\u001b[39m           initial=_NoValue, where=\u001b[38;5;28;01mTrue\u001b[39;00m):\n",
      "\u001b[31mKeyboardInterrupt\u001b[39m: "
     ]
    }
   ],
   "source": [
    "pipe.run_pipeline(run_lane_detection=True, run_segmentation=True, run_tracking=True, convert_to_um=True, classify_trajectories=True, merge_trajectories=True, verbose=True)"
   ]
  },
  {
   "cell_type": "code",
   "execution_count": null,
   "metadata": {},
   "outputs": [],
   "source": []
  }
 ],
 "metadata": {
  "kernelspec": {
   "display_name": "onedcelltrack",
   "language": "python",
   "name": "onedcelltrack"
  },
  "language_info": {
   "codemirror_mode": {
    "name": "ipython",
    "version": 3
   },
   "file_extension": ".py",
   "mimetype": "text/x-python",
   "name": "python",
   "nbconvert_exporter": "python",
   "pygments_lexer": "ipython3",
   "version": "3.12.9"
  }
 },
 "nbformat": 4,
 "nbformat_minor": 4
}
